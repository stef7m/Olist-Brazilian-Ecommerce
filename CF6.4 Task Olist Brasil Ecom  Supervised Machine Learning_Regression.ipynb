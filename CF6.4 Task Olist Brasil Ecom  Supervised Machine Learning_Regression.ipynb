{
 "cells": [
  {
   "cell_type": "markdown",
   "id": "4fced257",
   "metadata": {},
   "source": [
    "# Importing Libraries, dataset and checking outcome"
   ]
  },
  {
   "cell_type": "code",
   "execution_count": 1,
   "id": "0a2c9be2",
   "metadata": {},
   "outputs": [],
   "source": [
    "import pandas as pd\n",
    "import numpy as np\n",
    "import seaborn as sns\n",
    "import matplotlib\n",
    "import matplotlib.pyplot as plt\n",
    "import os\n",
    "import sklearn\n",
    "from sklearn.model_selection import train_test_split \n",
    "from sklearn.linear_model import LinearRegression\n",
    "from sklearn.metrics import mean_squared_error, r2_score"
   ]
  },
  {
   "cell_type": "code",
   "execution_count": 2,
   "id": "f4c9a02c",
   "metadata": {},
   "outputs": [],
   "source": [
    "# This option ensures that the graphs you create are displayed within the notebook without the need to \"call\" them specifically.\n",
    "\n",
    "%matplotlib inline"
   ]
  },
  {
   "cell_type": "code",
   "execution_count": 3,
   "id": "3f25656a",
   "metadata": {},
   "outputs": [],
   "source": [
    "path=r'/Users/stefaniadaskalaki/Google Drive/Data Immersion/6 Achievement/CF6 BRecom'"
   ]
  },
  {
   "cell_type": "code",
   "execution_count": 4,
   "id": "67d81259",
   "metadata": {},
   "outputs": [],
   "source": [
    "# setting dataframe wide view to see all columns\n",
    "\n",
    "pd.set_option('display.max_columns', 50)"
   ]
  },
  {
   "cell_type": "code",
   "execution_count": 5,
   "id": "5cc577ce",
   "metadata": {},
   "outputs": [],
   "source": [
    "# importing dataset cat_prod_item_cust_ords_pay\n",
    "\n",
    "df_all = pd.read_csv(os.path.join(path, '02. Data', '02. Prepared Data', 'cat_prod_item_cust_ords_pay.csv'),index_col=False)"
   ]
  },
  {
   "cell_type": "code",
   "execution_count": 6,
   "id": "f9d85f4a",
   "metadata": {},
   "outputs": [
    {
     "name": "stdout",
     "output_type": "stream",
     "text": [
      "<class 'pandas.core.frame.DataFrame'>\n",
      "RangeIndex: 115877 entries, 0 to 115876\n",
      "Data columns (total 29 columns):\n",
      " #   Column                         Non-Null Count   Dtype  \n",
      "---  ------                         --------------   -----  \n",
      " 0   Unnamed: 0                     115877 non-null  int64  \n",
      " 1   order_id                       115877 non-null  object \n",
      " 2   customer_id                    115877 non-null  object \n",
      " 3   order_status                   115877 non-null  object \n",
      " 4   order_approved_at              115863 non-null  object \n",
      " 5   order_delivered_customer_date  113382 non-null  object \n",
      " 6   order_estimated_delivery_date  115877 non-null  object \n",
      " 7   payment_sequential             115877 non-null  int64  \n",
      " 8   payment_type                   115877 non-null  object \n",
      " 9   payment_installments           115877 non-null  int64  \n",
      " 10  payment_value                  115877 non-null  float64\n",
      " 11  customer_unique_id             115877 non-null  object \n",
      " 12  customer_zip_code_prefix       115877 non-null  int64  \n",
      " 13  customer_city                  115877 non-null  object \n",
      " 14  customer_state                 115877 non-null  object \n",
      " 15  order_item_id                  115877 non-null  int64  \n",
      " 16  product_id                     115877 non-null  object \n",
      " 17  seller_id                      115877 non-null  object \n",
      " 18  shipping_limit_date            115877 non-null  object \n",
      " 19  price                          115877 non-null  float64\n",
      " 20  freight_value                  115877 non-null  float64\n",
      " 21  product_name_lenght            115877 non-null  float64\n",
      " 22  product_description_lenght     115877 non-null  float64\n",
      " 23  product_photos_qty             115877 non-null  float64\n",
      " 24  product_weight_g               115877 non-null  float64\n",
      " 25  product_length_cm              115877 non-null  float64\n",
      " 26  product_height_cm              115877 non-null  float64\n",
      " 27  product_width_cm               115877 non-null  float64\n",
      " 28  product_category_name_english  115877 non-null  object \n",
      "dtypes: float64(10), int64(5), object(14)\n",
      "memory usage: 25.6+ MB\n"
     ]
    }
   ],
   "source": [
    "df_all.info()"
   ]
  },
  {
   "cell_type": "markdown",
   "id": "35d2de53",
   "metadata": {},
   "source": [
    "# Data Cleaning"
   ]
  },
  {
   "cell_type": "code",
   "execution_count": 7,
   "id": "1f13d101",
   "metadata": {},
   "outputs": [],
   "source": [
    "# dropping unnamed column\n",
    "\n",
    "df_all=df_all.drop(columns = ['Unnamed: 0'])"
   ]
  },
  {
   "cell_type": "markdown",
   "id": "1a43442d",
   "metadata": {},
   "source": [
    "## Checking for missing values"
   ]
  },
  {
   "cell_type": "code",
   "execution_count": 8,
   "id": "9b47ee06",
   "metadata": {},
   "outputs": [
    {
     "data": {
      "text/plain": [
       "order_id                            0\n",
       "customer_id                         0\n",
       "order_status                        0\n",
       "order_approved_at                  14\n",
       "order_delivered_customer_date    2495\n",
       "order_estimated_delivery_date       0\n",
       "payment_sequential                  0\n",
       "payment_type                        0\n",
       "payment_installments                0\n",
       "payment_value                       0\n",
       "customer_unique_id                  0\n",
       "customer_zip_code_prefix            0\n",
       "customer_city                       0\n",
       "customer_state                      0\n",
       "order_item_id                       0\n",
       "product_id                          0\n",
       "seller_id                           0\n",
       "shipping_limit_date                 0\n",
       "price                               0\n",
       "freight_value                       0\n",
       "product_name_lenght                 0\n",
       "product_description_lenght          0\n",
       "product_photos_qty                  0\n",
       "product_weight_g                    0\n",
       "product_length_cm                   0\n",
       "product_height_cm                   0\n",
       "product_width_cm                    0\n",
       "product_category_name_english       0\n",
       "dtype: int64"
      ]
     },
     "execution_count": 8,
     "metadata": {},
     "output_type": "execute_result"
    }
   ],
   "source": [
    "df_all.isnull().sum()"
   ]
  },
  {
   "cell_type": "code",
   "execution_count": 9,
   "id": "1b32c073",
   "metadata": {},
   "outputs": [],
   "source": [
    "# cleaning rows with missing values from column order_delivered_customer_date since the missing data are because orders are pending\n",
    "\n",
    "df_all_cl=df_all.dropna()"
   ]
  },
  {
   "cell_type": "code",
   "execution_count": 10,
   "id": "3a6f2b39",
   "metadata": {},
   "outputs": [
    {
     "data": {
      "text/plain": [
       "(113368, 28)"
      ]
     },
     "execution_count": 10,
     "metadata": {},
     "output_type": "execute_result"
    }
   ],
   "source": [
    "df_all_cl.shape"
   ]
  },
  {
   "cell_type": "code",
   "execution_count": 11,
   "id": "f4a32902",
   "metadata": {},
   "outputs": [
    {
     "data": {
      "text/plain": [
       "order_id                         0\n",
       "customer_id                      0\n",
       "order_status                     0\n",
       "order_approved_at                0\n",
       "order_delivered_customer_date    0\n",
       "order_estimated_delivery_date    0\n",
       "payment_sequential               0\n",
       "payment_type                     0\n",
       "payment_installments             0\n",
       "payment_value                    0\n",
       "customer_unique_id               0\n",
       "customer_zip_code_prefix         0\n",
       "customer_city                    0\n",
       "customer_state                   0\n",
       "order_item_id                    0\n",
       "product_id                       0\n",
       "seller_id                        0\n",
       "shipping_limit_date              0\n",
       "price                            0\n",
       "freight_value                    0\n",
       "product_name_lenght              0\n",
       "product_description_lenght       0\n",
       "product_photos_qty               0\n",
       "product_weight_g                 0\n",
       "product_length_cm                0\n",
       "product_height_cm                0\n",
       "product_width_cm                 0\n",
       "product_category_name_english    0\n",
       "dtype: int64"
      ]
     },
     "execution_count": 11,
     "metadata": {},
     "output_type": "execute_result"
    }
   ],
   "source": [
    "df_all_cl.isnull().sum()"
   ]
  },
  {
   "cell_type": "markdown",
   "id": "0ff15270",
   "metadata": {},
   "source": [
    "## Checking for duplicates"
   ]
  },
  {
   "cell_type": "code",
   "execution_count": 12,
   "id": "a4f1fc09",
   "metadata": {},
   "outputs": [],
   "source": [
    "dups = df_all_cl.duplicated()"
   ]
  },
  {
   "cell_type": "code",
   "execution_count": 13,
   "id": "11abff43",
   "metadata": {},
   "outputs": [
    {
     "data": {
      "text/plain": [
       "(113368,)"
      ]
     },
     "execution_count": 13,
     "metadata": {},
     "output_type": "execute_result"
    }
   ],
   "source": [
    "dups.shape"
   ]
  },
  {
   "cell_type": "markdown",
   "id": "c3edff74",
   "metadata": {},
   "source": [
    "no duplicates found"
   ]
  },
  {
   "cell_type": "markdown",
   "id": "bb707420",
   "metadata": {},
   "source": [
    "## Checking for extreme values for the payment_value variable"
   ]
  },
  {
   "cell_type": "code",
   "execution_count": 14,
   "id": "ad0a2ca3",
   "metadata": {},
   "outputs": [
    {
     "name": "stderr",
     "output_type": "stream",
     "text": [
      "/Users/stefaniadaskalaki/opt/anaconda3/lib/python3.9/site-packages/seaborn/distributions.py:2619: FutureWarning: `distplot` is a deprecated function and will be removed in a future version. Please adapt your code to use either `displot` (a figure-level function with similar flexibility) or `histplot` (an axes-level function for histograms).\n",
      "  warnings.warn(msg, FutureWarning)\n"
     ]
    },
    {
     "data": {
      "text/plain": [
       "<AxesSubplot:xlabel='payment_value', ylabel='Density'>"
      ]
     },
     "execution_count": 14,
     "metadata": {},
     "output_type": "execute_result"
    },
    {
     "data": {
      "image/png": "[encoded data removed]",
      "text/plain": [
       "<Figure size 640x480 with 1 Axes>"
      ]
     },
     "metadata": {},
     "output_type": "display_data"
    }
   ],
   "source": [
    "sns.distplot(df_all_cl['payment_value'], bins=25) "
   ]
  },
  {
   "cell_type": "markdown",
   "id": "62fae888",
   "metadata": {},
   "source": [
    "We have some extreme values here but i don't know if they are actual outliers or just rare occasions of high priced products. For the time being i will leave them for the analysis"
   ]
  },
  {
   "cell_type": "code",
   "execution_count": 15,
   "id": "cfb87598",
   "metadata": {},
   "outputs": [
    {
     "data": {
      "text/plain": [
       "172.2222046785626"
      ]
     },
     "execution_count": 15,
     "metadata": {},
     "output_type": "execute_result"
    }
   ],
   "source": [
    "# checking the mean\n",
    "\n",
    "df_all_cl['payment_value'].mean()"
   ]
  },
  {
   "cell_type": "code",
   "execution_count": 16,
   "id": "e5acba0c",
   "metadata": {},
   "outputs": [
    {
     "data": {
      "text/plain": [
       "108.14"
      ]
     },
     "execution_count": 16,
     "metadata": {},
     "output_type": "execute_result"
    }
   ],
   "source": [
    "# checking the median\n",
    "\n",
    "df_all_cl['payment_value'].median()"
   ]
  },
  {
   "cell_type": "code",
   "execution_count": 17,
   "id": "4ee714ad",
   "metadata": {},
   "outputs": [
    {
     "data": {
      "text/plain": [
       "13664.08"
      ]
     },
     "execution_count": 17,
     "metadata": {},
     "output_type": "execute_result"
    }
   ],
   "source": [
    "# checking the max\n",
    "\n",
    "df_all_cl['payment_value'].max()"
   ]
  },
  {
   "cell_type": "markdown",
   "id": "6a8c5cd8",
   "metadata": {},
   "source": [
    "# Preparing data for regression analysis"
   ]
  },
  {
   "cell_type": "markdown",
   "id": "c42a7150",
   "metadata": {},
   "source": [
    "## Creating a scatterplot using matplotlib for price/payment_value"
   ]
  },
  {
   "cell_type": "code",
   "execution_count": 18,
   "id": "99565a64",
   "metadata": {},
   "outputs": [
    {
     "data": {
      "image/png": "[encoded data removed]",
      "text/plain": [
       "<Figure size 640x480 with 1 Axes>"
      ]
     },
     "metadata": {},
     "output_type": "display_data"
    }
   ],
   "source": [
    "# for another look at how the chosen variables plot against each other.\n",
    "\n",
    "df_all_cl.plot(x = 'price', y='payment_value',style='o') # The style option creates a scatterplot; without it, we only have lines.\n",
    "plt.title('Item Price vs Transaction Value Correlation')  \n",
    "plt.xlabel('Price')  \n",
    "plt.ylabel('Payment Value')  \n",
    "plt.show()"
   ]
  },
  {
   "cell_type": "markdown",
   "id": "8181d47e",
   "metadata": {},
   "source": [
    "## Reshaping the variables into NumPy arrays and putting them into separate objects"
   ]
  },
  {
   "cell_type": "code",
   "execution_count": 19,
   "id": "97e9cd92",
   "metadata": {},
   "outputs": [],
   "source": [
    "X = df_all_cl['price'].values.reshape(-1,1)\n",
    "y = df_all_cl['payment_value'].values.reshape(-1,1)"
   ]
  },
  {
   "cell_type": "code",
   "execution_count": 20,
   "id": "4651a59f",
   "metadata": {},
   "outputs": [
    {
     "data": {
      "text/plain": [
       "array([[ 29.99],\n",
       "       [ 29.99],\n",
       "       [ 29.99],\n",
       "       ...,\n",
       "       [ 39.9 ],\n",
       "       [183.29],\n",
       "       [100.  ]])"
      ]
     },
     "execution_count": 20,
     "metadata": {},
     "output_type": "execute_result"
    }
   ],
   "source": [
    "X"
   ]
  },
  {
   "cell_type": "code",
   "execution_count": 21,
   "id": "200b4cdb",
   "metadata": {},
   "outputs": [
    {
     "data": {
      "text/plain": [
       "array([[ 18.12],\n",
       "       [  2.  ],\n",
       "       [ 18.59],\n",
       "       ...,\n",
       "       [ 84.63],\n",
       "       [209.06],\n",
       "       [115.45]])"
      ]
     },
     "execution_count": 21,
     "metadata": {},
     "output_type": "execute_result"
    }
   ],
   "source": [
    "y"
   ]
  },
  {
   "cell_type": "markdown",
   "id": "2599ef0b",
   "metadata": {},
   "source": [
    "## Split data into a training set and a test set"
   ]
  },
  {
   "cell_type": "code",
   "execution_count": 22,
   "id": "39f7f676",
   "metadata": {},
   "outputs": [],
   "source": [
    "X_train, X_test, y_train, y_test = train_test_split(X, y, test_size=0.3, random_state=0)"
   ]
  },
  {
   "cell_type": "markdown",
   "id": "e9785c65",
   "metadata": {},
   "source": [
    "# Performing regression analysis"
   ]
  },
  {
   "cell_type": "markdown",
   "id": "a2d676ff",
   "metadata": {},
   "source": [
    "## Creating a regression object"
   ]
  },
  {
   "cell_type": "code",
   "execution_count": 23,
   "id": "60ed3809",
   "metadata": {},
   "outputs": [],
   "source": [
    "regression = LinearRegression()  \n",
    "\n",
    "# This is the regression object, which will be fit onto the training set."
   ]
  },
  {
   "cell_type": "markdown",
   "id": "feb0d492",
   "metadata": {},
   "source": [
    "## Fit the regression object onto the training set"
   ]
  },
  {
   "cell_type": "code",
   "execution_count": 24,
   "id": "455f42bb",
   "metadata": {},
   "outputs": [
    {
     "data": {
      "text/plain": [
       "LinearRegression()"
      ]
     },
     "execution_count": 24,
     "metadata": {},
     "output_type": "execute_result"
    }
   ],
   "source": [
    "regression.fit(X_train, y_train)"
   ]
  },
  {
   "cell_type": "markdown",
   "id": "7958a85e",
   "metadata": {},
   "source": [
    "## Predicting the values of y using X"
   ]
  },
  {
   "cell_type": "code",
   "execution_count": 25,
   "id": "69daa799",
   "metadata": {},
   "outputs": [],
   "source": [
    "y_predicted = regression.predict(X_test)"
   ]
  },
  {
   "cell_type": "markdown",
   "id": "b95a2ae1",
   "metadata": {},
   "source": [
    "## Create a plot that shows the regression line from the model on the test set"
   ]
  },
  {
   "cell_type": "code",
   "execution_count": 26,
   "id": "37adbb74",
   "metadata": {},
   "outputs": [
    {
     "data": {
      "image/png": "[encoded data removed]",
      "text/plain": [
       "<Figure size 640x480 with 1 Axes>"
      ]
     },
     "metadata": {},
     "output_type": "display_data"
    }
   ],
   "source": [
    "plot_test = plt\n",
    "plot_test.scatter(X_test, y_test, color='gray', s = 15)\n",
    "plot_test.plot(X_test, y_predicted, color='red', linewidth =3)\n",
    "plot_test.title('Item Price vs Transaction Value (Test set)')\n",
    "plot_test.xlabel('Price')\n",
    "plot_test.ylabel('Payment Value')\n",
    "plot_test.show()"
   ]
  },
  {
   "cell_type": "markdown",
   "id": "d21942f6",
   "metadata": {},
   "source": [
    "The linear model represented by the red regression line doesn’t perfectly cover all of the data points. In the area where the price is under 1100, there are many data points that indicate low price, which contradicts the hypothesis that as the item price goes higher the transaction value also goes higher. In this case i will need to check the performance of the model further with some statistics"
   ]
  },
  {
   "cell_type": "markdown",
   "id": "4f49d3e2",
   "metadata": {},
   "source": [
    "## Creating objects that contain the model summary statistics"
   ]
  },
  {
   "cell_type": "code",
   "execution_count": 27,
   "id": "5d863ef7",
   "metadata": {},
   "outputs": [],
   "source": [
    "rmse = mean_squared_error(y_test, y_predicted) # This is the mean squared error\n",
    "r2 = r2_score(y_test, y_predicted) # This is the R2 score"
   ]
  },
  {
   "cell_type": "code",
   "execution_count": 28,
   "id": "eea6e92f",
   "metadata": {},
   "outputs": [
    {
     "name": "stdout",
     "output_type": "stream",
     "text": [
      "Slope: [[1.08699882]]\n",
      "Mean squared error:  30385.83559592936\n",
      "R2 score:  0.5586722212840627\n"
     ]
    }
   ],
   "source": [
    "# Printing the model summary statistics\n",
    "\n",
    "print('Slope:' ,regression.coef_)\n",
    "print('Mean squared error: ', rmse)\n",
    "print('R2 score: ', r2)"
   ]
  },
  {
   "cell_type": "markdown",
   "id": "a7739d41",
   "metadata": {},
   "source": [
    "The slope is positive which means that my hypothesis is in the correct direction, as the price increases the transaction value increases too. The Mean Squared Error score is high which is possible because of the extreme value 13664.08 that distorts the result. In this case the linear regression model doesn't fit these variables. However the R2 score is above average with 0.55 which tells us that it is a good fit. The results are showing us that the model fits but we have to examine the outcome without the extreme values."
   ]
  },
  {
   "cell_type": "code",
   "execution_count": 29,
   "id": "4eb4e0fd",
   "metadata": {},
   "outputs": [
    {
     "data": {
      "text/plain": [
       "array([[172.21149097],\n",
       "       [ 55.19606828],\n",
       "       [ 59.26144385],\n",
       "       ...,\n",
       "       [ 63.51160923],\n",
       "       [123.40524407],\n",
       "       [ 63.60943912]])"
      ]
     },
     "execution_count": 29,
     "metadata": {},
     "output_type": "execute_result"
    }
   ],
   "source": [
    "y_predicted"
   ]
  },
  {
   "cell_type": "markdown",
   "id": "217c7117",
   "metadata": {},
   "source": [
    "## Creating a dataframe comparing the actual and predicted values of y"
   ]
  },
  {
   "cell_type": "code",
   "execution_count": 30,
   "id": "f366b9e8",
   "metadata": {},
   "outputs": [],
   "source": [
    "df_data = pd.DataFrame({'Actual': y_test.flatten(), 'Predicted': y_predicted.flatten()})"
   ]
  },
  {
   "cell_type": "code",
   "execution_count": 31,
   "id": "a5f6a24b",
   "metadata": {},
   "outputs": [
    {
     "data": {
      "text/html": [
       "<div>\n",
       "<style scoped>\n",
       "    .dataframe tbody tr th:only-of-type {\n",
       "        vertical-align: middle;\n",
       "    }\n",
       "\n",
       "    .dataframe tbody tr th {\n",
       "        vertical-align: top;\n",
       "    }\n",
       "\n",
       "    .dataframe thead th {\n",
       "        text-align: right;\n",
       "    }\n",
       "</style>\n",
       "<table border=\"1\" class=\"dataframe\">\n",
       "  <thead>\n",
       "    <tr style=\"text-align: right;\">\n",
       "      <th></th>\n",
       "      <th>Actual</th>\n",
       "      <th>Predicted</th>\n",
       "    </tr>\n",
       "  </thead>\n",
       "  <tbody>\n",
       "    <tr>\n",
       "      <th>0</th>\n",
       "      <td>145.90</td>\n",
       "      <td>172.211491</td>\n",
       "    </tr>\n",
       "    <tr>\n",
       "      <th>1</th>\n",
       "      <td>20.03</td>\n",
       "      <td>55.196068</td>\n",
       "    </tr>\n",
       "    <tr>\n",
       "      <th>2</th>\n",
       "      <td>23.77</td>\n",
       "      <td>59.261444</td>\n",
       "    </tr>\n",
       "    <tr>\n",
       "      <th>3</th>\n",
       "      <td>439.00</td>\n",
       "      <td>500.593834</td>\n",
       "    </tr>\n",
       "    <tr>\n",
       "      <th>4</th>\n",
       "      <td>163.00</td>\n",
       "      <td>110.578658</td>\n",
       "    </tr>\n",
       "    <tr>\n",
       "      <th>5</th>\n",
       "      <td>44.23</td>\n",
       "      <td>73.403298</td>\n",
       "    </tr>\n",
       "    <tr>\n",
       "      <th>6</th>\n",
       "      <td>1191.48</td>\n",
       "      <td>225.583133</td>\n",
       "    </tr>\n",
       "    <tr>\n",
       "      <th>7</th>\n",
       "      <td>39.42</td>\n",
       "      <td>74.479427</td>\n",
       "    </tr>\n",
       "    <tr>\n",
       "      <th>8</th>\n",
       "      <td>86.68</td>\n",
       "      <td>117.970250</td>\n",
       "    </tr>\n",
       "    <tr>\n",
       "      <th>9</th>\n",
       "      <td>40.09</td>\n",
       "      <td>69.044433</td>\n",
       "    </tr>\n",
       "    <tr>\n",
       "      <th>10</th>\n",
       "      <td>57.89</td>\n",
       "      <td>106.991562</td>\n",
       "    </tr>\n",
       "    <tr>\n",
       "      <th>11</th>\n",
       "      <td>169.49</td>\n",
       "      <td>204.821455</td>\n",
       "    </tr>\n",
       "    <tr>\n",
       "      <th>12</th>\n",
       "      <td>83.75</td>\n",
       "      <td>117.861550</td>\n",
       "    </tr>\n",
       "    <tr>\n",
       "      <th>13</th>\n",
       "      <td>203.42</td>\n",
       "      <td>107.100262</td>\n",
       "    </tr>\n",
       "    <tr>\n",
       "      <th>14</th>\n",
       "      <td>322.19</td>\n",
       "      <td>248.301408</td>\n",
       "    </tr>\n",
       "    <tr>\n",
       "      <th>15</th>\n",
       "      <td>64.16</td>\n",
       "      <td>101.556568</td>\n",
       "    </tr>\n",
       "    <tr>\n",
       "      <th>16</th>\n",
       "      <td>66.77</td>\n",
       "      <td>69.044433</td>\n",
       "    </tr>\n",
       "    <tr>\n",
       "      <th>17</th>\n",
       "      <td>123.01</td>\n",
       "      <td>161.341503</td>\n",
       "    </tr>\n",
       "    <tr>\n",
       "      <th>18</th>\n",
       "      <td>204.24</td>\n",
       "      <td>237.974919</td>\n",
       "    </tr>\n",
       "    <tr>\n",
       "      <th>19</th>\n",
       "      <td>101.33</td>\n",
       "      <td>139.166727</td>\n",
       "    </tr>\n",
       "    <tr>\n",
       "      <th>20</th>\n",
       "      <td>68.71</td>\n",
       "      <td>107.089392</td>\n",
       "    </tr>\n",
       "    <tr>\n",
       "      <th>21</th>\n",
       "      <td>22.39</td>\n",
       "      <td>58.185315</td>\n",
       "    </tr>\n",
       "    <tr>\n",
       "      <th>22</th>\n",
       "      <td>40.69</td>\n",
       "      <td>72.207600</td>\n",
       "    </tr>\n",
       "    <tr>\n",
       "      <th>23</th>\n",
       "      <td>121.64</td>\n",
       "      <td>145.036521</td>\n",
       "    </tr>\n",
       "    <tr>\n",
       "      <th>24</th>\n",
       "      <td>130.56</td>\n",
       "      <td>166.885197</td>\n",
       "    </tr>\n",
       "    <tr>\n",
       "      <th>25</th>\n",
       "      <td>32.68</td>\n",
       "      <td>68.946603</td>\n",
       "    </tr>\n",
       "    <tr>\n",
       "      <th>26</th>\n",
       "      <td>5.78</td>\n",
       "      <td>110.252558</td>\n",
       "    </tr>\n",
       "    <tr>\n",
       "      <th>27</th>\n",
       "      <td>142.28</td>\n",
       "      <td>103.828395</td>\n",
       "    </tr>\n",
       "    <tr>\n",
       "      <th>28</th>\n",
       "      <td>55.00</td>\n",
       "      <td>85.251586</td>\n",
       "    </tr>\n",
       "    <tr>\n",
       "      <th>29</th>\n",
       "      <td>59.60</td>\n",
       "      <td>88.621282</td>\n",
       "    </tr>\n",
       "  </tbody>\n",
       "</table>\n",
       "</div>"
      ],
      "text/plain": [
       "     Actual   Predicted\n",
       "0    145.90  172.211491\n",
       "1     20.03   55.196068\n",
       "2     23.77   59.261444\n",
       "3    439.00  500.593834\n",
       "4    163.00  110.578658\n",
       "5     44.23   73.403298\n",
       "6   1191.48  225.583133\n",
       "7     39.42   74.479427\n",
       "8     86.68  117.970250\n",
       "9     40.09   69.044433\n",
       "10    57.89  106.991562\n",
       "11   169.49  204.821455\n",
       "12    83.75  117.861550\n",
       "13   203.42  107.100262\n",
       "14   322.19  248.301408\n",
       "15    64.16  101.556568\n",
       "16    66.77   69.044433\n",
       "17   123.01  161.341503\n",
       "18   204.24  237.974919\n",
       "19   101.33  139.166727\n",
       "20    68.71  107.089392\n",
       "21    22.39   58.185315\n",
       "22    40.69   72.207600\n",
       "23   121.64  145.036521\n",
       "24   130.56  166.885197\n",
       "25    32.68   68.946603\n",
       "26     5.78  110.252558\n",
       "27   142.28  103.828395\n",
       "28    55.00   85.251586\n",
       "29    59.60   88.621282"
      ]
     },
     "execution_count": 31,
     "metadata": {},
     "output_type": "execute_result"
    }
   ],
   "source": [
    "df_data.head(30)"
   ]
  },
  {
   "cell_type": "markdown",
   "id": "4a881225",
   "metadata": {},
   "source": [
    "From the comparison it is evident that the linear regression model is not a good fit"
   ]
  },
  {
   "cell_type": "markdown",
   "id": "06ddb63d",
   "metadata": {},
   "source": [
    "# Exporting df_all_cl "
   ]
  }
 ],
 "metadata": {
  "kernelspec": {
   "display_name": "Python 3 (ipykernel)",
   "language": "python",
   "name": "python3"
  },
  "language_info": {
   "codemirror_mode": {
    "name": "ipython",
    "version": 3
   },
   "file_extension": ".py",
   "mimetype": "text/x-python",
   "name": "python",
   "nbconvert_exporter": "python",
   "pygments_lexer": "ipython3",
   "version": "3.9.13"
  }
 },
 "nbformat": 4,
 "nbformat_minor": 5
}
